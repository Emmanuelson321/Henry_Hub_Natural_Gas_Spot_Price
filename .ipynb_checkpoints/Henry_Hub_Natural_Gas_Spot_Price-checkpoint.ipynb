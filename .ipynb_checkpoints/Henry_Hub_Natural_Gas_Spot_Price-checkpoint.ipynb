{
 "cells": [
  {
   "cell_type": "markdown",
   "id": "26dc4914-d86b-40fa-9c05-fa66098e70bd",
   "metadata": {},
   "source": [
    "## Henry Hub Natural Gas Spot Price"
   ]
  },
  {
   "cell_type": "markdown",
   "id": "258588a4-2ed9-41c7-8872-e897f8ddc728",
   "metadata": {},
   "source": [
    "### Reuseable Script"
   ]
  },
  {
   "cell_type": "code",
   "execution_count": 3,
   "id": "246870cb-5a87-44f1-a307-e9539b33bccb",
   "metadata": {},
   "outputs": [
    {
     "name": "stdout",
     "output_type": "stream",
     "text": [
      "Downloading daily Excel file...\n",
      "Excel file downloaded successfully to Natural Gas Prices Day.xls\n",
      "Processing daily Excel file to CSV...\n",
      "CSV file saved as Henry_Hub_Gas_Price_Daily.csv\n",
      "Downloading monthly Excel file...\n",
      "Excel file downloaded successfully to Natural Gas Prices Month.xls\n",
      "Processing monthly Excel file to CSV...\n",
      "CSV file saved as Henry_Hub_Gas_Price_Monthly.csv\n"
     ]
    }
   ],
   "source": [
    "# Import the necessary libraries\n",
    "\n",
    "import requests\n",
    "import pandas as pd\n",
    "from bs4 import BeautifulSoup \n",
    "\n",
    "def extract_excel_from_url(url, output_filename):\n",
    "    \"\"\"\n",
    "    Download an Excel file from the given URL and save it locally.\n",
    "    \"\"\"\n",
    "    try:\n",
    "        response = requests.get(url, stream=True)\n",
    "        response.raise_for_status()  # Check for HTTP errors\n",
    "        with open(output_filename, \"wb\") as file:\n",
    "            for chunk in response.iter_content(chunk_size=8192):\n",
    "                file.write(chunk)\n",
    "        print(f\"Excel file downloaded successfully to {output_filename}\")\n",
    "    except requests.exceptions.RequestException as e:\n",
    "        print(f\"Error downloading file: {e}\")\n",
    "\n",
    "def process_excel_to_csv(excel_filename, csv_filename, sheet_name=\"Data 1\", skiprows=2):\n",
    "    \"\"\"\n",
    "    Process the Excel file and convert it to CSV using the following flow:\n",
    "      - Read the Excel file using pandas with the specified parameters.\n",
    "      - Rename the long column name to \"Price\".\n",
    "      - Remove rows with null values in either \"Date\" or \"Price\".\n",
    "      - Write the cleaned DataFrame to a CSV file.\n",
    "    \"\"\"\n",
    "    try:\n",
    "        # Read the Excel file, selecting the desired columns\n",
    "        df = pd.read_excel(\n",
    "            excel_filename,\n",
    "            sheet_name=sheet_name,\n",
    "            skiprows=skiprows,\n",
    "            usecols=[\"Date\", \"Henry Hub Natural Gas Spot Price (Dollars per Million Btu)\"]\n",
    "        )\n",
    "        # Rename the column to \"Price\"\n",
    "        df = df.rename(columns={\n",
    "            \"Henry Hub Natural Gas Spot Price (Dollars per Million Btu)\": \"Price\"\n",
    "        })\n",
    "        # Remove rows with null values in \"Date\" or \"Price\"\n",
    "        df = df.dropna(subset=[\"Date\", \"Price\"])\n",
    "        # Save the DataFrame to CSV\n",
    "        df.to_csv(csv_filename, index=False)\n",
    "        print(f\"CSV file saved as {csv_filename}\")\n",
    "    except Exception as e:\n",
    "        print(f\"Error processing Excel file {excel_filename}: {e}\")\n",
    "\n",
    "def main():\n",
    "    # Example for daily data:\n",
    "    daily_url = \"https://www.eia.gov/dnav/ng/hist_xls/RNGWHHDd.xls\"\n",
    "    daily_excel_filename = \"Natural Gas Prices Day.xls\"\n",
    "    daily_csv_filename = \"Henry_Hub_Gas_Price_Daily.csv\"\n",
    "    \n",
    "    print(\"Downloading daily Excel file...\")\n",
    "    extract_excel_from_url(daily_url, daily_excel_filename)\n",
    "    \n",
    "    print(\"Processing daily Excel file to CSV...\")\n",
    "    process_excel_to_csv(daily_excel_filename, daily_csv_filename)\n",
    "    \n",
    "    # Example for monthly data (if the structure is the same, adjust as needed):\n",
    "    monthly_url = \"https://www.eia.gov/dnav/ng/hist_xls/RNGWHHDm.xls\"\n",
    "    monthly_excel_filename = \"Natural Gas Prices Month.xls\"\n",
    "    monthly_csv_filename = \"Henry_Hub_Gas_Price_Monthly.csv\"\n",
    "    \n",
    "    print(\"Downloading monthly Excel file...\")\n",
    "    extract_excel_from_url(monthly_url, monthly_excel_filename)\n",
    "    \n",
    "    print(\"Processing monthly Excel file to CSV...\")\n",
    "    process_excel_to_csv(monthly_excel_filename, monthly_csv_filename)\n",
    "\n",
    "if __name__ == \"__main__\":\n",
    "    main()\n"
   ]
  },
  {
   "cell_type": "code",
   "execution_count": null,
   "id": "1359c55e-d373-482f-b0f7-0db544451129",
   "metadata": {},
   "outputs": [],
   "source": []
  }
 ],
 "metadata": {
  "kernelspec": {
   "display_name": "Python 3 (ipykernel)",
   "language": "python",
   "name": "python3"
  },
  "language_info": {
   "codemirror_mode": {
    "name": "ipython",
    "version": 3
   },
   "file_extension": ".py",
   "mimetype": "text/x-python",
   "name": "python",
   "nbconvert_exporter": "python",
   "pygments_lexer": "ipython3",
   "version": "3.12.4"
  }
 },
 "nbformat": 4,
 "nbformat_minor": 5
}
